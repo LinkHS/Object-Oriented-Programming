{
 "cells": [
  {
   "cell_type": "markdown",
   "metadata": {},
   "source": [
    "# Homework 5"
   ]
  },
  {
   "cell_type": "code",
   "execution_count": 1,
   "metadata": {
    "ExecuteTime": {
     "end_time": "2021-02-12T04:04:52.262375Z",
     "start_time": "2021-02-12T04:04:52.258163Z"
    }
   },
   "outputs": [],
   "source": [
    "#include <iostream>\n",
    "#include <vector>\n",
    "using namespace std;"
   ]
  },
  {
   "cell_type": "markdown",
   "metadata": {},
   "source": [
    "## template\n",
    "### `swap()`\n",
    "先看一个简单的交换两个`int`型变量的函数："
   ]
  },
  {
   "cell_type": "code",
   "execution_count": 2,
   "metadata": {
    "ExecuteTime": {
     "end_time": "2021-02-12T04:04:57.978775Z",
     "start_time": "2021-02-12T04:04:57.977783Z"
    }
   },
   "outputs": [],
   "source": [
    "void swap(int& a, int& b)\n",
    "{\n",
    "    int temp = a;\n",
    "    a =  b;\n",
    "    b = temp;\n",
    "}"
   ]
  },
  {
   "cell_type": "code",
   "execution_count": 3,
   "metadata": {
    "ExecuteTime": {
     "end_time": "2021-02-12T04:04:58.252701Z",
     "start_time": "2021-02-12T04:04:58.246865Z"
    }
   },
   "outputs": [
    {
     "name": "stdout",
     "output_type": "stream",
     "text": [
      "ia: 2, ib: 1"
     ]
    }
   ],
   "source": [
    "int ia = 1;\n",
    "int ib = 2;\n",
    "\n",
    "swap(ia, ib);\n",
    "cout << \"ia: \" << ia << \", ib: \" << ib;"
   ]
  },
  {
   "cell_type": "markdown",
   "metadata": {},
   "source": [
    "可是上面的`swap()`只能接受`int`型参数，对于其他类型的参数还需要定义新的`swap()`，如下面的`swap_float`："
   ]
  },
  {
   "cell_type": "code",
   "execution_count": 4,
   "metadata": {
    "ExecuteTime": {
     "end_time": "2021-02-12T04:05:02.899055Z",
     "start_time": "2021-02-12T04:05:02.897162Z"
    }
   },
   "outputs": [],
   "source": [
    "float fa = 1.1;\n",
    "float fb = 1.2;\n",
    "\n",
    "void swap_float(float &a, float &b);"
   ]
  },
  {
   "cell_type": "markdown",
   "metadata": {},
   "source": [
    "### `template_swap()`\n",
    "为了每一种类型都实现一个对应的`swap()`非常麻烦，如果以后用户自定义了新类型还得修改原代码，`template`可以解决这个问题："
   ]
  },
  {
   "cell_type": "code",
   "execution_count": 5,
   "metadata": {
    "ExecuteTime": {
     "end_time": "2021-02-11T08:40:47.713563Z",
     "start_time": "2021-02-11T08:40:47.712757Z"
    }
   },
   "outputs": [],
   "source": [
    "template<typename T> \n",
    "void t_swap(T& t1, T& t2)\n",
    "{\n",
    "    T tmpT;\n",
    "    tmpT = t1;\n",
    "    t1 = t2;\n",
    "    t2 = tmpT;\n",
    "}"
   ]
  },
  {
   "cell_type": "markdown",
   "metadata": {},
   "source": [
    "使用`template`和普通函数的区别在于，函数的参数没有被指定，而是用了一个`T`代替，在调用函数时编译器会判断传入参数的类型："
   ]
  },
  {
   "cell_type": "code",
   "execution_count": 6,
   "metadata": {
    "ExecuteTime": {
     "end_time": "2021-02-11T08:40:47.718300Z",
     "start_time": "2021-02-11T08:40:47.713911Z"
    }
   },
   "outputs": [
    {
     "name": "stdout",
     "output_type": "stream",
     "text": [
      "ia: 1, ib: 2"
     ]
    }
   ],
   "source": [
    "t_swap(ia, ib);\n",
    "cout << \"ia: \" << ia << \", ib: \" << ib;"
   ]
  },
  {
   "cell_type": "markdown",
   "metadata": {},
   "source": [
    "`t_swap`成功交换了`int`型变量，再试一下`float`类型："
   ]
  },
  {
   "cell_type": "code",
   "execution_count": 7,
   "metadata": {
    "ExecuteTime": {
     "end_time": "2021-02-11T08:40:47.724285Z",
     "start_time": "2021-02-11T08:40:47.718629Z"
    },
    "scrolled": true
   },
   "outputs": [
    {
     "name": "stdout",
     "output_type": "stream",
     "text": [
      "fa: 1.2, fb: 1.1"
     ]
    }
   ],
   "source": [
    "t_swap<float> (fa, fb);\n",
    "cout << \"fa: \" << fa << \", fb: \" << fb;"
   ]
  },
  {
   "cell_type": "markdown",
   "metadata": {},
   "source": [
    "### template陷阱\n",
    "`template`很强大，但是必然也有需要注意的地方，这里我们用`template`实现一个可以计算任意类型的数组的平均值："
   ]
  },
  {
   "cell_type": "code",
   "execution_count": 8,
   "metadata": {
    "ExecuteTime": {
     "end_time": "2021-02-11T08:40:47.725310Z",
     "start_time": "2021-02-11T08:40:47.724485Z"
    }
   },
   "outputs": [],
   "source": [
    "template <typename T>\n",
    "T avg(const T *beg, const T *end)\n",
    "{\n",
    "    T sum{};\n",
    "    int cnt = 0;\n",
    "    while (beg != end)\n",
    "    {\n",
    "        sum += *beg;\n",
    "        ++beg;\n",
    "        ++cnt;\n",
    "    }\n",
    "    return sum / cnt;\n",
    "}"
   ]
  },
  {
   "cell_type": "markdown",
   "metadata": {},
   "source": [
    "**【重点】**思考：\n",
    "- `T sum{}`中的`{}`作用？\n",
    "- 能否用`T sum = 0`代替？"
   ]
  },
  {
   "cell_type": "code",
   "execution_count": 9,
   "metadata": {
    "ExecuteTime": {
     "end_time": "2021-02-11T08:40:47.732040Z",
     "start_time": "2021-02-11T08:40:47.726763Z"
    }
   },
   "outputs": [
    {
     "name": "stdout",
     "output_type": "stream",
     "text": [
      "avg: 3\n"
     ]
    }
   ],
   "source": [
    "int a[] = {1, 2, 3, 4, 5};\n",
    "\n",
    "cout << \"avg: \" << avg(a, a+5) << endl;"
   ]
  },
  {
   "cell_type": "markdown",
   "metadata": {},
   "source": [
    "`char`型字符也可以被计算（ascii码）：\n",
    "> 提示：`%x`输出16进制"
   ]
  },
  {
   "cell_type": "code",
   "execution_count": 10,
   "metadata": {
    "ExecuteTime": {
     "end_time": "2021-02-11T08:40:48.225468Z",
     "start_time": "2021-02-11T08:40:47.732275Z"
    }
   },
   "outputs": [
    {
     "name": "stdout",
     "output_type": "stream",
     "text": [
      "49, 50, 51\n",
      "31, 32, 33\n",
      "50, 2\n"
     ]
    },
    {
     "data": {
      "text/plain": [
       "6"
      ]
     },
     "execution_count": 10,
     "metadata": {},
     "output_type": "execute_result"
    }
   ],
   "source": [
    "char z = ('1' + '2' + '3') / 3;\n",
    "\n",
    "printf(\"%d, %d, %d\\n\", '1', '2', '3');\n",
    "printf(\"%x, %x, %x\\n\", '1', '2', '3');\n",
    "printf(\"%d, %c\\n\", z, z)"
   ]
  },
  {
   "cell_type": "markdown",
   "metadata": {},
   "source": [
    "如果传入`avg()`是`char`数组会发生什么？\n",
    "> 提示：`avg()`中的`T sum`会变成`char sum`"
   ]
  },
  {
   "cell_type": "code",
   "execution_count": 11,
   "metadata": {
    "ExecuteTime": {
     "end_time": "2021-02-11T08:40:48.229621Z",
     "start_time": "2021-02-11T08:40:48.225658Z"
    }
   },
   "outputs": [
    {
     "name": "stdout",
     "output_type": "stream",
     "text": [
      "-35, ffffffdd\n"
     ]
    }
   ],
   "source": [
    "// const char *c = \"12345\";\n",
    "char c[] = {'1', '2', '3'};\n",
    "printf(\"%d, %x\\n\", avg(c, c+3), avg(c, c+3));"
   ]
  },
  {
   "cell_type": "markdown",
   "metadata": {},
   "source": [
    "为什么结果变成了`-35`？"
   ]
  },
  {
   "cell_type": "code",
   "execution_count": 12,
   "metadata": {
    "ExecuteTime": {
     "end_time": "2021-02-11T08:40:48.232582Z",
     "start_time": "2021-02-11T08:40:48.229891Z"
    }
   },
   "outputs": [
    {
     "name": "stdout",
     "output_type": "stream",
     "text": [
      "ffffffdd\n",
      "ffffffdd\n"
     ]
    }
   ],
   "source": [
    "printf(\"%x\\n\", -35);\n",
    "printf(\"%x\\n\", (char)(49+50+51)/3);"
   ]
  },
  {
   "cell_type": "markdown",
   "metadata": {},
   "source": [
    "`char`型的范围为`[-128, 127]`："
   ]
  },
  {
   "cell_type": "code",
   "execution_count": 13,
   "metadata": {
    "ExecuteTime": {
     "end_time": "2021-02-11T08:40:48.235703Z",
     "start_time": "2021-02-11T08:40:48.232856Z"
    }
   },
   "outputs": [
    {
     "name": "stdout",
     "output_type": "stream",
     "text": [
      "7f, ffffff80\n",
      "127, -128\n"
     ]
    }
   ],
   "source": [
    "printf(\"%x, %x\\n\", (char)127, (char)128);\n",
    "printf(\"%d, %d\\n\", (char)127, (char)128);"
   ]
  },
  {
   "cell_type": "markdown",
   "metadata": {},
   "source": [
    "## class template\n",
    "上一节讲了普通函数使用`template`申明参数或返回值类型，下面看下类成员如何使用`template`："
   ]
  },
  {
   "cell_type": "code",
   "execution_count": 14,
   "metadata": {
    "ExecuteTime": {
     "end_time": "2021-02-11T08:40:48.236832Z",
     "start_time": "2021-02-11T08:40:48.235951Z"
    }
   },
   "outputs": [],
   "source": [
    "template <class T>\n",
    "class mypair{\n",
    "    T a, b;\n",
    "public:\n",
    "    mypair(T first, T second){\n",
    "        a=first;\n",
    "        b=second;\n",
    "    }\n",
    "    T getmax ();\n",
    "};"
   ]
  },
  {
   "cell_type": "markdown",
   "metadata": {},
   "source": [
    "在类里使用`template`定义成员变量类型、成员函数参数类型、成员函数返回值类型很简单，下面看下在类外实现成员函数的用法："
   ]
  },
  {
   "cell_type": "code",
   "execution_count": 15,
   "metadata": {
    "ExecuteTime": {
     "end_time": "2021-02-11T08:40:48.237857Z",
     "start_time": "2021-02-11T08:40:48.237103Z"
    }
   },
   "outputs": [],
   "source": [
    "template <class T>\n",
    "T mypair<T>::getmax (){\n",
    "    T retval;\n",
    "    retval = a>b ? a : b;\n",
    "    return retval;\n",
    "}"
   ]
  },
  {
   "cell_type": "code",
   "execution_count": 16,
   "metadata": {
    "ExecuteTime": {
     "end_time": "2021-02-11T08:40:48.243646Z",
     "start_time": "2021-02-11T08:40:48.238104Z"
    }
   },
   "outputs": [
    {
     "name": "stdout",
     "output_type": "stream",
     "text": [
      "100"
     ]
    }
   ],
   "source": [
    "// mypair myobject(100, 75);\n",
    "mypair<int> myobject(100, 75);\n",
    "cout << myobject.getmax();"
   ]
  },
  {
   "cell_type": "markdown",
   "metadata": {},
   "source": [
    "## 其他\n",
    "### 专用方法\n",
    "之前我们定义了`t_swap`函数，可以接受`vector`类型的参数：\n",
    "> 这里因为jupyter编译器限制，如果实例化了`void t_swap(std::vector<int>& t1, std::vector<int>& t2)`，下面就不能再重新定义了*"
   ]
  },
  {
   "cell_type": "code",
   "execution_count": 17,
   "metadata": {
    "ExecuteTime": {
     "end_time": "2021-02-11T08:40:48.265059Z",
     "start_time": "2021-02-11T08:40:48.243899Z"
    }
   },
   "outputs": [],
   "source": [
    "vector<int> iv1, iv2;\n",
    "// t_swap(iv1, iv2);"
   ]
  },
  {
   "cell_type": "markdown",
   "metadata": {},
   "source": [
    "假设`swap`函数要处理很多元素的`vector<int>`，执行`tmpT = t1`要拷贝`t1`的全部元素，占用大量内存，造成性能下降，可以通过`vector.swap`函数解决这个问题："
   ]
  },
  {
   "cell_type": "code",
   "execution_count": 18,
   "metadata": {
    "ExecuteTime": {
     "end_time": "2021-02-11T08:40:48.269675Z",
     "start_time": "2021-02-11T08:40:48.265439Z"
    },
    "scrolled": true
   },
   "outputs": [],
   "source": [
    "template<> \n",
    "void t_swap(std::vector<int>& t1, std::vector<int>& t2){\n",
    "    t1.swap(t2);\n",
    "    cout << \"using vector<int>.swap\" << endl;\n",
    "}"
   ]
  },
  {
   "cell_type": "markdown",
   "metadata": {},
   "source": [
    "测试一下`std::vector<int>`参数是否匹配成功："
   ]
  },
  {
   "cell_type": "code",
   "execution_count": 19,
   "metadata": {
    "ExecuteTime": {
     "end_time": "2021-02-11T08:40:48.277470Z",
     "start_time": "2021-02-11T08:40:48.270015Z"
    }
   },
   "outputs": [
    {
     "name": "stdout",
     "output_type": "stream",
     "text": [
      "using vector<int>.swap\n"
     ]
    }
   ],
   "source": [
    "t_swap(iv1, iv2);"
   ]
  },
  {
   "cell_type": "markdown",
   "metadata": {},
   "source": [
    "测试一下`std::vector<float>`型参数是否匹配："
   ]
  },
  {
   "cell_type": "code",
   "execution_count": 20,
   "metadata": {
    "ExecuteTime": {
     "end_time": "2021-02-11T08:40:48.321088Z",
     "start_time": "2021-02-11T08:40:48.277664Z"
    }
   },
   "outputs": [],
   "source": [
    "vector<float> fv1, fv2;\n",
    "t_swap(fv1, fv2);"
   ]
  },
  {
   "cell_type": "code",
   "execution_count": 21,
   "metadata": {
    "ExecuteTime": {
     "end_time": "2021-02-11T08:40:48.322601Z",
     "start_time": "2021-02-11T08:40:48.321319Z"
    }
   },
   "outputs": [],
   "source": [
    "template<class V>\n",
    "void t_swap(std::vector<V>& t1, std::vector<V>& t2){\n",
    "    t1.swap(t2);\n",
    "    cout << \"using vector.swap\" << endl;\n",
    "}"
   ]
  },
  {
   "cell_type": "code",
   "execution_count": 22,
   "metadata": {
    "ExecuteTime": {
     "end_time": "2021-02-11T08:40:48.336152Z",
     "start_time": "2021-02-11T08:40:48.322852Z"
    }
   },
   "outputs": [
    {
     "name": "stdout",
     "output_type": "stream",
     "text": [
      "using vector.swap\n",
      "using vector.swap\n"
     ]
    }
   ],
   "source": [
    "t_swap(iv1, iv2);\n",
    "t_swap(fv1, fv2);"
   ]
  },
  {
   "cell_type": "markdown",
   "metadata": {},
   "source": [
    "### 多个template"
   ]
  },
  {
   "cell_type": "code",
   "execution_count": 23,
   "metadata": {
    "ExecuteTime": {
     "end_time": "2021-02-11T08:40:48.337602Z",
     "start_time": "2021-02-11T08:40:48.336411Z"
    }
   },
   "outputs": [],
   "source": [
    "template <typename T1, typename T2>\n",
    "class HetPair{\n",
    "public:\n",
    "    //HetPair(){};\n",
    "    HetPair(T1 t1, T2 t2) : t1_(t1), t2_(t2){};\n",
    "\n",
    "    void print(){\n",
    "        cout << \"t1_: \" << t1_ << \"; t2_: \" << t2_ << endl;\n",
    "    };\n",
    "\n",
    "private:\n",
    "    T1 t1_;\n",
    "    T2 t2_;\n",
    "};"
   ]
  },
  {
   "cell_type": "code",
   "execution_count": 24,
   "metadata": {
    "ExecuteTime": {
     "end_time": "2021-02-11T08:40:48.347078Z",
     "start_time": "2021-02-11T08:40:48.337881Z"
    }
   },
   "outputs": [
    {
     "name": "stdout",
     "output_type": "stream",
     "text": [
      "t1_: 1; t2_: 2\n"
     ]
    }
   ],
   "source": [
    "HetPair<int, int> h(1, 2);\n",
    "h.print();"
   ]
  }
 ],
 "metadata": {
  "kernelspec": {
   "display_name": "C++11",
   "language": "C++11",
   "name": "xcpp11"
  },
  "language_info": {
   "codemirror_mode": "text/x-c++src",
   "file_extension": ".cpp",
   "mimetype": "text/x-c++src",
   "name": "c++",
   "version": "11"
  },
  "toc": {
   "base_numbering": 1,
   "nav_menu": {},
   "number_sections": true,
   "sideBar": true,
   "skip_h1_title": false,
   "title_cell": "Table of Contents",
   "title_sidebar": "Contents",
   "toc_cell": false,
   "toc_position": {
    "height": "calc(100% - 180px)",
    "left": "10px",
    "top": "150px",
    "width": "317px"
   },
   "toc_section_display": true,
   "toc_window_display": true
  },
  "toc-autonumbering": true,
  "toc-showmarkdowntxt": false,
  "toc-showtags": false
 },
 "nbformat": 4,
 "nbformat_minor": 4
}
